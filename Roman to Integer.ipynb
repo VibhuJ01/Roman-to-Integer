{
  "nbformat": 4,
  "nbformat_minor": 0,
  "metadata": {
    "colab": {
      "name": "Untitled0.ipynb",
      "provenance": [],
      "authorship_tag": "ABX9TyOciyYUt788sph2Xz2VGLXs",
      "include_colab_link": true
    },
    "kernelspec": {
      "name": "python3",
      "display_name": "Python 3"
    },
    "language_info": {
      "name": "python"
    }
  },
  "cells": [
    {
      "cell_type": "markdown",
      "metadata": {
        "id": "view-in-github",
        "colab_type": "text"
      },
      "source": [
        "<a href=\"https://colab.research.google.com/github/VibhuJ01/Roman-to-Integer/blob/main/Main.ipynb\" target=\"_parent\"><img src=\"https://colab.research.google.com/assets/colab-badge.svg\" alt=\"Open In Colab\"/></a>"
      ]
    },
    {
      "cell_type": "code",
      "execution_count": 1,
      "metadata": {
        "colab": {
          "base_uri": "https://localhost:8080/"
        },
        "id": "l9w5AoGY1vux",
        "outputId": "bc2e4366-c5ec-4304-9ee5-d26c3169033d"
      },
      "outputs": [
        {
          "output_type": "stream",
          "name": "stdout",
          "text": [
            "VIII\n",
            "8\n",
            "CMCDCLXXVII\n",
            "1477\n",
            "MM\n",
            "2000\n",
            "CMCLX\n",
            "1060\n",
            "XLXXXVIII\n",
            "78\n"
          ]
        }
      ],
      "source": [
        "def romtoint():\n",
        "    roman = str(input())\n",
        "    integer = 0\n",
        "    dict = {\"I\":1,\"V\":5,\"X\":10,\"L\":50,\"C\":100,\"D\":500,\"M\":1000}\n",
        "    i = 0\n",
        "    while(i<len(roman)):\n",
        "        if(i == len(roman)-1):\n",
        "            integer += dict[roman[i]]\n",
        "            i+=1\n",
        "            continue\n",
        "        elif(roman[i] == \"I\" and roman[i+1] == \"V\"):\n",
        "            integer += 4\n",
        "        elif(roman[i] == \"I\" and roman[i+1] == \"X\"):\n",
        "            integer += 9\n",
        "        elif(roman[i] == \"X\" and roman[i+1] == \"L\"):\n",
        "            integer += 40\n",
        "        elif(roman[i] == \"X\" and roman[i+1] == \"C\"):\n",
        "            integer += 90\n",
        "        elif(roman[i] == \"C\" and roman[i+1] == \"D\"):\n",
        "            integer += 400\n",
        "        elif(roman[i] == \"C\" and roman[i+1] == \"M\"):\n",
        "            integer += 900\n",
        "        else:\n",
        "            integer += dict[roman[i]]\n",
        "            i+=1\n",
        "            continue\n",
        "        i+=2\n",
        "    return integer\n",
        "\n",
        "n = 0\n",
        "while(n<5):    \n",
        "    print(romtoint())\n",
        "    n+=1\n"
      ]
    }
  ]
}
