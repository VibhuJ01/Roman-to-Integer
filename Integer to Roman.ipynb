{
  "nbformat": 4,
  "nbformat_minor": 0,
  "metadata": {
    "colab": {
      "name": "Untitled0.ipynb",
      "provenance": [],
      "authorship_tag": "ABX9TyMqX7x/qX97/tty7RFXy/LU",
      "include_colab_link": true
    },
    "kernelspec": {
      "name": "python3",
      "display_name": "Python 3"
    },
    "language_info": {
      "name": "python"
    }
  },
  "cells": [
    {
      "cell_type": "markdown",
      "metadata": {
        "id": "view-in-github",
        "colab_type": "text"
      },
      "source": [
        "<a href=\"https://colab.research.google.com/github/VibhuJ01/Roman-to-Integer-And-Integer-to-Roman/blob/main/Integer%20to%20Roman.ipynb\" target=\"_parent\"><img src=\"https://colab.research.google.com/assets/colab-badge.svg\" alt=\"Open In Colab\"/></a>"
      ]
    },
    {
      "cell_type": "code",
      "execution_count": null,
      "metadata": {
        "colab": {
          "base_uri": "https://localhost:8080/"
        },
        "id": "l9w5AoGY1vux",
        "outputId": "11e4218c-4130-4d18-d3f1-26252e61619d"
      },
      "outputs": [
        {
          "output_type": "stream",
          "name": "stdout",
          "text": [
            "78\n",
            "LXXVIII\n",
            "1947\n",
            "MCMXLVII\n",
            "543\n",
            "DXLIII\n",
            "1234\n",
            "MCCXXXIV\n",
            "2002\n",
            "MMII\n"
          ]
        }
      ],
      "source": [
        "def inttorom(num):\n",
        "    rom = \"\"\n",
        "    while(num>0):\n",
        "        if(num>=1000):\n",
        "            rom+=\"M\"\n",
        "            num-=1000\n",
        "        elif(num>=900):\n",
        "            rom+=\"CM\"\n",
        "            num-=900\n",
        "        elif(num>=500):\n",
        "            rom+=\"D\"\n",
        "            num-=500\n",
        "        elif(num>=400):\n",
        "            rom+=\"CD\"\n",
        "            num-=400\n",
        "        elif(num>=100):\n",
        "            rom+=\"C\"\n",
        "            num-=100\n",
        "        elif(num>=90):\n",
        "            rom+=\"XC\"\n",
        "            num-=90\n",
        "        elif(num>=50):\n",
        "            rom+=\"L\"\n",
        "            num-=50\n",
        "        elif(num>=40):\n",
        "            rom+=\"XL\"\n",
        "            num-=40\n",
        "        elif(num>=10):\n",
        "            rom+=\"X\"\n",
        "            num-=10\n",
        "        elif(num==9):\n",
        "            rom+=\"IX\"\n",
        "            num-=9\n",
        "        elif(num>=5):\n",
        "            rom+=\"V\"\n",
        "            num-=5\n",
        "        elif(num==4):\n",
        "            rom+=\"IV\"\n",
        "            num-=4\n",
        "        else:\n",
        "            rom+=\"I\"\n",
        "            num-=1\n",
        "    print(rom)\n",
        "    \n",
        "n=5\n",
        "while(n>0):\n",
        "    num = int(input())\n",
        "    inttorom(num)\n",
        "    n-=1"
      ]
    }
  ]
}